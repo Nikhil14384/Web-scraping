{
 "cells": [
  {
   "cell_type": "code",
   "execution_count": 3,
   "metadata": {},
   "outputs": [
    {
     "name": "stdout",
     "output_type": "stream",
     "text": [
      "Collecting autoscraper\n",
      "  Downloading autoscraper-1.1.12-py3-none-any.whl (10 kB)\n",
      "Collecting bs4\n",
      "  Downloading bs4-0.0.1.tar.gz (1.1 kB)\n",
      "Requirement already satisfied: requests in c:\\anaconda\\lib\\site-packages (from autoscraper) (2.24.0)\n",
      "Requirement already satisfied: lxml in c:\\anaconda\\lib\\site-packages (from autoscraper) (4.6.1)\n",
      "Requirement already satisfied: beautifulsoup4 in c:\\anaconda\\lib\\site-packages (from bs4->autoscraper) (4.9.3)\n",
      "Requirement already satisfied: idna<3,>=2.5 in c:\\anaconda\\lib\\site-packages (from requests->autoscraper) (2.10)\n",
      "Requirement already satisfied: urllib3!=1.25.0,!=1.25.1,<1.26,>=1.21.1 in c:\\anaconda\\lib\\site-packages (from requests->autoscraper) (1.25.11)\n",
      "Requirement already satisfied: chardet<4,>=3.0.2 in c:\\anaconda\\lib\\site-packages (from requests->autoscraper) (3.0.4)\n",
      "Requirement already satisfied: certifi>=2017.4.17 in c:\\anaconda\\lib\\site-packages (from requests->autoscraper) (2020.6.20)\n",
      "Requirement already satisfied: soupsieve>1.2; python_version >= \"3.0\" in c:\\anaconda\\lib\\site-packages (from beautifulsoup4->bs4->autoscraper) (2.0.1)\n",
      "Building wheels for collected packages: bs4\n",
      "  Building wheel for bs4 (setup.py): started\n",
      "  Building wheel for bs4 (setup.py): finished with status 'done'\n",
      "  Created wheel for bs4: filename=bs4-0.0.1-py3-none-any.whl size=1277 sha256=a6919810fa8f844999a1eeb6022008f3a4a20bc8ef3b650c7b888da34031394f\n",
      "  Stored in directory: c:\\users\\hp\\appdata\\local\\pip\\cache\\wheels\\75\\78\\21\\68b124549c9bdc94f822c02fb9aa3578a669843f9767776bca\n",
      "Successfully built bs4\n",
      "Installing collected packages: bs4, autoscraper\n",
      "Successfully installed autoscraper-1.1.12 bs4-0.0.1\n"
     ]
    }
   ],
   "source": [
    "!pip install autoscraper"
   ]
  },
  {
   "cell_type": "code",
   "execution_count": 1,
   "metadata": {},
   "outputs": [],
   "source": [
    "import autoscraper"
   ]
  },
  {
   "cell_type": "code",
   "execution_count": 2,
   "metadata": {},
   "outputs": [],
   "source": [
    "from autoscraper import AutoScraper"
   ]
  },
  {
   "cell_type": "code",
   "execution_count": 16,
   "metadata": {},
   "outputs": [],
   "source": [
    "url=\"https://www.flipkart.com/smart-watches-bands-store?otracker=clp_creative_card_2_10.creativeCard.CREATIVE_CARD_big-savings-days-store_PZ9V1OD4CERQ&fm=neo%2Fmerchandising&iid=M_8b4c12d9-732d-482c-9ab8-690542412dce_10.PZ9V1OD4CERQ&ppt=browse&ppn=browse&ssid=ol74x98os00000001619282659069\""
   ]
  },
  {
   "cell_type": "code",
   "execution_count": 17,
   "metadata": {},
   "outputs": [
    {
     "name": "stdout",
     "output_type": "stream",
     "text": [
      "['realme Watch S', 'OnePlus Watch', 'OnePlus Band', 'Noise ColorFit Pro 2 Smartwatch', 'Noise ColorFit Pro 3 Smartwatch', '₹4,999', '₹14,999', '₹2,499', '₹2,599', '₹4,499']\n"
     ]
    }
   ],
   "source": [
    "req_list=[\"realme Watch S\",\"₹4,499\",]\n",
    "Scrap= AutoScraper()\n",
    "result=Scrap.build(url,req_list)\n",
    "print(result)"
   ]
  },
  {
   "cell_type": "markdown",
   "metadata": {},
   "source": [
    "# Scrapping amazon website\n"
   ]
  },
  {
   "cell_type": "code",
   "execution_count": 33,
   "metadata": {},
   "outputs": [],
   "source": [
    "amzn_url=\"https://www.amazon.in/s?k=iphones\"\n",
    "req_list_amzn=['₹69,900 ','New Apple iPhone 11 (128GB) - Black']\n",
    "res_amzn=Scrap_amzn.build(amzn_url,req_list_amzn)"
   ]
  },
  {
   "cell_type": "code",
   "execution_count": 34,
   "metadata": {},
   "outputs": [
    {
     "name": "stdout",
     "output_type": "stream",
     "text": [
      "['₹1,25,900', '₹1,29,900', '₹58,400', '₹59,900', '₹82,400', '₹84,900', '₹93,900', '₹1,23,900', '₹66,900', '₹69,900', '₹29,999', '₹1,15,900', '₹1,19,900', '₹86,900', '₹1,21,300', '₹2,499', '₹2,999', '₹13,990', '₹19,990', '₹16,499', '₹19,999', '₹1,499', '₹23,999', '₹27,000', '₹1,999', '₹1,100', '₹57,400', 'New Apple iPhone 12 Pro Max (128GB) - Pacific Blue', '₹1,25,900₹1,25,900\\n₹1,29,900₹1,29,900\\n\\nSave ₹4,000 (3%)Save extra with No Cost EMI', 'New Apple iPhone 11 (128GB) - Black', '₹58,400₹58,400\\n₹59,900₹59,900\\n\\nSave ₹1,500 (3%)Save extra with No Cost EMI', 'New Apple iPhone 12 (128GB) - Blue', '₹82,400₹82,400\\n₹84,900₹84,900\\n\\nSave ₹2,500 (3%)Save extra with No Cost EMI', 'Apple iPhone 11 Pro Max (256GB) - Midnight Green', 'Limited time deal\\n\\n\\n\\n\\n₹93,900₹93,900\\n₹1,23,900₹1,23,900\\n\\nSave ₹30,000 (24%)10%  Off on Citi Bank Cards', 'New Apple iPhone 12 Mini (64GB) - Blue', '₹66,900₹66,900\\n₹69,900₹69,900\\n\\nSave ₹3,000 (4%)Save extra with No Cost EMI', 'OnePlus Nord 5G (Blue Marble, 12GB RAM, 256GB Storage)', 'Limited time deal\\n\\n\\n\\n\\n₹29,999₹29,999\\n\\nSave extra with No Cost EMI', 'New Apple iPhone 12 Pro (128GB) - Pacific Blue', '₹1,15,900₹1,15,900\\n₹1,19,900₹1,19,900\\n\\nSave ₹4,000 (3%)Save extra with No Cost EMI', 'Apple iPhone 11 Pro (256GB) - Silver', 'Limited time deal\\n\\n\\n\\n\\n₹86,900₹86,900\\n₹1,21,300₹1,21,300\\n\\nSave ₹34,400 (28%)10%  Off on Citi Bank Cards', 'Nillkin Case for Apple iPhone 12 Mini (5.4\" Inch) Synthetic Aramid Carbon Fiber Tough Waterproof Light Weight Black Color', '₹2,499₹2,499\\n₹2,999₹2,999\\n\\nSave ₹500 (17%)10%  Off on Citi Bank Cards', 'Oppo A52 (Twilight Black, 6GB RAM, 128GB Storage) with No Cost EMI/Additional Exchange Offers', 'Limited time deal\\n\\n\\n\\n\\n₹13,990₹13,990\\n₹19,990₹19,990\\n\\nSave ₹6,000 (30%)10%  Off on Citi Bank Cards', 'Samsung Galaxy M31 (Ocean Blue, 6GB RAM, 128GB Storage)', 'Limited time deal\\n\\n\\n\\n\\n₹16,499₹16,499\\n₹19,999₹19,999\\n\\nSave ₹3,500 (18%)Save extra with No Cost EMI', 'Nillkin Case for Apple iPhone 12 Pro Max (6.7\" Inch) Super Frosted Shield Pro Magnetic Hard Back Soft Border (PC + TPU) Cover Raised Bezel Camera Protect with Logo Cut Black', '₹1,499₹1,499\\n₹2,999₹2,999\\n\\nSave ₹1,500 (50%)10%  Off on Citi Bank Cards', 'Mi 10i 5G (Midnight Black, 8GB RAM, 128GB Storage) - 108MP Quad Camera | Snapdragon 750G Processor | Upto 6 Months No Cost EMI', 'Limited time deal\\n\\n\\n\\n\\n₹23,999₹23,999\\n₹27,000₹27,000\\n\\nSave ₹3,001 (11%)Save extra with No Cost EMI', 'RemixmartTMCamera Tempered Glass for iPhone 11 (Camera Tempered Glass only)', 'Nillkin Tempered Glass for Apple iPhone 12 Pro Max (6.7\" Inch) Amazing H+ Pro Explosion Proof Screen Protect + Camera Film', '₹1,499₹1,499\\n₹1,999₹1,999\\n\\nSave ₹500 (25%)10%  Off on Citi Bank Cards', 'Nillkin Case for Apple iPhone 12 Mini (5.4\" Inch) Super Frosted Shield Pro Magnetic Hard Back Soft Border (PC + TPU) Cover Raised Bezel Camera Protect with Logo Cut Blue', '₹1,100₹1,100\\n₹1,499₹1,499\\n\\nSave ₹399 (27%)10%  Off on Citi Bank Cards', 'Nillkin Case for Apple iPhone 12 Mini (5.4', 'Nillkin Case for Apple iPhone 12 Pro Max (6.7', 'Mi 10i 5G (Midnight Black, 8GB RAM, 128GB Storage) - 108MP Quad Camera | Snapdragon 750G Processor | Upto 6 Months No Cost...', 'Nillkin Tempered Glass for Apple iPhone 12 Pro Max (6.7']\n"
     ]
    }
   ],
   "source": [
    "print(res_amzn)"
   ]
  },
  {
   "cell_type": "code",
   "execution_count": 35,
   "metadata": {},
   "outputs": [
    {
     "data": {
      "text/plain": [
       "{'rule_om1j': ['₹1,25,900',\n",
       "  '₹1,29,900',\n",
       "  '₹58,400',\n",
       "  '₹59,900',\n",
       "  '₹93,900',\n",
       "  '₹1,23,900',\n",
       "  '₹82,400',\n",
       "  '₹84,900',\n",
       "  '₹1,35,900',\n",
       "  '₹1,39,900',\n",
       "  '₹81,900',\n",
       "  '₹99,900',\n",
       "  '₹93,900',\n",
       "  '₹1,31,900',\n",
       "  '₹88,900',\n",
       "  '₹1,17,100',\n",
       "  '₹1,15,900',\n",
       "  '₹1,41,900',\n",
       "  '₹59,900',\n",
       "  '₹59,900',\n",
       "  '₹1,15,900',\n",
       "  '₹1,19,900',\n",
       "  '₹77,900',\n",
       "  '₹79,900',\n",
       "  '₹1,15,900',\n",
       "  '₹1,50,800',\n",
       "  '₹86,900',\n",
       "  '₹1,21,300'],\n",
       " 'rule_5nbh': ['₹1,25,900',\n",
       "  '₹1,29,900',\n",
       "  '₹58,400',\n",
       "  '₹59,900',\n",
       "  '₹93,900',\n",
       "  '₹1,23,900',\n",
       "  '₹82,400',\n",
       "  '₹84,900',\n",
       "  '₹1,35,900',\n",
       "  '₹1,39,900',\n",
       "  '₹81,900',\n",
       "  '₹99,900',\n",
       "  '₹93,900',\n",
       "  '₹1,31,900',\n",
       "  '₹88,900',\n",
       "  '₹1,17,100',\n",
       "  '₹1,15,900',\n",
       "  '₹1,41,900',\n",
       "  '₹59,900',\n",
       "  '₹59,900',\n",
       "  '₹1,15,900',\n",
       "  '₹1,19,900',\n",
       "  '₹77,900',\n",
       "  '₹79,900',\n",
       "  '₹1,15,900',\n",
       "  '₹1,50,800',\n",
       "  '₹86,900',\n",
       "  '₹1,21,300'],\n",
       " 'rule_gin2': ['₹57,400', '₹59,900', '₹69,900'],\n",
       " 'rule_khtz': ['₹57,400', '₹59,900', '₹69,900'],\n",
       " 'rule_ej40': ['₹1,25,900₹1,25,900 ₹1,29,900₹1,29,900  Save ₹4,000 (3%)Save extra with No Cost EMI',\n",
       "  '₹58,400₹58,400 ₹59,900₹59,900  Save ₹1,500 (3%)Save extra with No Cost EMI',\n",
       "  'Limited time deal  ₹93,900₹93,900 ₹1,23,900₹1,23,900  Save ₹30,000 (24%)10%  Off on Citi Bank Cards',\n",
       "  '₹82,400₹82,400 ₹84,900₹84,900  Save ₹2,500 (3%)Save extra with No Cost EMI',\n",
       "  '₹1,35,900₹1,35,900 ₹1,39,900₹1,39,900  Save ₹4,000 (3%)Save extra with No Cost EMI',\n",
       "  'Limited time deal  ₹81,900₹81,900 ₹99,900₹99,900  Save ₹18,000 (18%)10%  Off on Citi Bank Cards',\n",
       "  'Limited time deal  ₹93,900₹93,900 ₹1,31,900₹1,31,900  Save ₹38,000 (29%)10%  Off on Citi Bank Cards',\n",
       "  '₹88,900₹88,900 ₹1,17,100₹1,17,100  Save ₹28,200 (24%)10%  Off on Citi Bank Cards',\n",
       "  '₹1,15,900₹1,15,900 ₹1,41,900₹1,41,900  Save ₹26,000 (18%)10%  Off on Citi Bank Cards',\n",
       "  '₹59,900₹59,900  Save extra with No Cost EMI',\n",
       "  '₹59,900₹59,900  Save extra with No Cost EMI',\n",
       "  '₹1,15,900₹1,15,900 ₹1,19,900₹1,19,900  Save ₹4,000 (3%)Save extra with No Cost EMI',\n",
       "  '₹77,900₹77,900 ₹79,900₹79,900  Save ₹2,000 (3%)Save extra with No Cost EMI',\n",
       "  '₹1,15,900₹1,15,900 ₹1,50,800₹1,50,800  Save ₹34,900 (23%)10%  Off on Citi Bank Cards',\n",
       "  'Limited time deal  ₹86,900₹86,900 ₹1,21,300₹1,21,300  Save ₹34,400 (28%)10%  Off on Citi Bank Cards'],\n",
       " 'rule_iw6b': ['New Apple iPhone 12 Pro Max (128GB) - Pacific Blue',\n",
       "  'New Apple iPhone 11 (128GB) - Black',\n",
       "  'Apple iPhone 11 Pro Max (256GB) - Midnight Green',\n",
       "  'New Apple iPhone 12 (128GB) - Blue',\n",
       "  'New Apple iPhone 12 Pro Max (256GB) - Graphite',\n",
       "  'Apple iPhone 11 Pro (64GB) - Space Grey',\n",
       "  'Apple iPhone 11 Pro Max (256GB) - Gold',\n",
       "  'Apple iPhone 11 Pro Max (64GB) - Midnight Green',\n",
       "  'Apple iPhone 11 Pro Max (512GB) - Space Grey',\n",
       "  'New Apple iPhone 11 (128GB) - Green',\n",
       "  'New Apple iPhone 11 (128GB) - White',\n",
       "  'New Apple iPhone 12 Pro (128GB) - Pacific Blue',\n",
       "  'New Apple iPhone 12 (64GB) - Blue',\n",
       "  'Apple iPhone 11 Pro Max (512GB) - Gold',\n",
       "  'Apple iPhone 11 Pro (256GB) - Silver']}"
      ]
     },
     "execution_count": 35,
     "metadata": {},
     "output_type": "execute_result"
    }
   ],
   "source": [
    "Scrap_amzn.get_result_similar(amzn_url,grouped=True)"
   ]
  },
  {
   "cell_type": "code",
   "execution_count": 37,
   "metadata": {},
   "outputs": [],
   "source": [
    "Scrap_amzn.set_rule_aliases({'rule_iw6b':'Title','rule_om1j':'Price'})\n",
    "Scrap_amzn.keep_rules(['rule_iw6b','rule_om1j'])\n",
    "Scrap_amzn.save('amazon-search')"
   ]
  },
  {
   "cell_type": "code",
   "execution_count": 42,
   "metadata": {},
   "outputs": [],
   "source": [
    "samsung_res=Scrap_amzn.get_result_similar('https://www.amazon.in/s?k=samsung',group_by_alias=True)"
   ]
  },
  {
   "cell_type": "code",
   "execution_count": 43,
   "metadata": {},
   "outputs": [
    {
     "data": {
      "text/plain": [
       "{'Price': ['₹10,999',\n",
       "  '₹12,999',\n",
       "  '₹16,499',\n",
       "  '₹19,999',\n",
       "  '₹9,999',\n",
       "  '₹11,499',\n",
       "  '₹12,499',\n",
       "  '₹15,999',\n",
       "  '₹7,999',\n",
       "  '₹8,499',\n",
       "  '₹18,499',\n",
       "  '₹22,999',\n",
       "  '₹24,999',\n",
       "  '₹30,999',\n",
       "  '₹6,199',\n",
       "  '₹8,499',\n",
       "  '₹11,499',\n",
       "  '₹10,999',\n",
       "  '₹14,999',\n",
       "  '₹94,990',\n",
       "  '₹1,29,999',\n",
       "  '₹29,999',\n",
       "  '₹43,000',\n",
       "  '₹13,999',\n",
       "  '₹14,999',\n",
       "  '₹16,499',\n",
       "  '₹18,999',\n",
       "  '₹14,980',\n",
       "  '₹19,999',\n",
       "  '₹22,499',\n",
       "  '₹27,999'],\n",
       " 'Title': ['Samsung Galaxy M12 (Blue,4GB RAM, 64GB Storage) 6000 mAh with 8nm Processor | True 48 MP Quad Camera | 90Hz Refresh Rate',\n",
       "  'Samsung Galaxy M31 (Ocean Blue, 6GB RAM, 128GB Storage)',\n",
       "  'Samsung Galaxy M02s (Blue,4GB RAM, 64GB Storage) | 5000 mAh | Triple Camera',\n",
       "  'Samsung Galaxy M21 (Midnight Blue, 4GB RAM, 64GB Storage)',\n",
       "  'Samsung Galaxy M02 (Black,3GB RAM, 32GB Storage)',\n",
       "  'Samsung Galaxy M31s (Mirage Blue, 6GB RAM, 128GB Storage)',\n",
       "  'Samsung Galaxy M51 (Celestial Black, 8GB RAM, 128GB Storage)',\n",
       "  'Samsung Galaxy M01 Core (Black, 2GB RAM, 32GB Storage) with No Cost EMI/Additional Exchange Offers',\n",
       "  'SAMSUNG Galaxy F02s (Diamond Black, 4GB RAM, 64GB Storage)',\n",
       "  'Samsung Galaxy M11 (Metallic Blue, 4GB RAM, 64GB Storage) with No Cost EMI/Additional Exchange Offers',\n",
       "  'Samsung Galaxy S21 Ultra 5G 128GB - Single-SIM with Qualcomm 888 - Phantom Black Phone',\n",
       "  'Samsung Galaxy Note10 Lite (Aura Glow, 6GB RAM, 128GB Storage) with No Cost EMI/Additional Exchange Offers',\n",
       "  'Samsung Galaxy A12 (Blue,4GB RAM, 128GB Storage) with No Cost EMI/Additional Exchange Offers',\n",
       "  'Samsung Galaxy M31 6GB 64GB (Ocean Blue)',\n",
       "  'Samsung Galaxy A21S Blue, 6GB RAM, 64GB Storage',\n",
       "  'Samsung Galaxy A51 (Black, 6GB RAM, 128GB Storage) Without Offer']}"
      ]
     },
     "execution_count": 43,
     "metadata": {},
     "output_type": "execute_result"
    }
   ],
   "source": [
    "samsung_res"
   ]
  },
  {
   "cell_type": "markdown",
   "metadata": {},
   "source": [
    "# ##Autoscraper and Api using Flask"
   ]
  },
  {
   "cell_type": "code",
   "execution_count": null,
   "metadata": {},
   "outputs": [],
   "source": []
  }
 ],
 "metadata": {
  "kernelspec": {
   "display_name": "Python 3",
   "language": "python",
   "name": "python3"
  },
  "language_info": {
   "codemirror_mode": {
    "name": "ipython",
    "version": 3
   },
   "file_extension": ".py",
   "mimetype": "text/x-python",
   "name": "python",
   "nbconvert_exporter": "python",
   "pygments_lexer": "ipython3",
   "version": "3.8.5"
  }
 },
 "nbformat": 4,
 "nbformat_minor": 4
}
